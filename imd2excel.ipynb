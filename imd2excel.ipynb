{
 "cells": [
  {
   "cell_type": "markdown",
   "id": "15a4af2a",
   "metadata": {},
   "source": [
    "### Csv to xlsx"
   ]
  },
  {
   "cell_type": "code",
   "execution_count": 127,
   "id": "2686be75",
   "metadata": {},
   "outputs": [],
   "source": [
    "import pandas as pd\n",
    "import glob\n",
    "import os"
   ]
  },
  {
   "cell_type": "code",
   "execution_count": 128,
   "id": "3891c55a",
   "metadata": {},
   "outputs": [],
   "source": [
    "base_path = 'E:/Vehicleengineering/Ramnath/IMD CSV TO XLS/'\n",
    "save_path = 'E:/Vehicleengineering/Ramnath/IMD CSV TO XLS/xlsx_files/'\n",
    "csv_folder_list = glob.glob(os.path.join(base_path,'*.csv'))"
   ]
  },
  {
   "cell_type": "code",
   "execution_count": 130,
   "id": "25bcb8b5",
   "metadata": {
    "scrolled": true
   },
   "outputs": [],
   "source": [
    "for path in csv_folder_list:\n",
    "    df = pd.read_csv(path)\n",
    "    df.to_excel(os.path.join(save_path,(os.path.basename(path)).split('.csv')[0]+'.xlsx'), sheet_name=\"Sheet1\", index=False)"
   ]
  },
  {
   "cell_type": "markdown",
   "id": "5860ed03",
   "metadata": {},
   "source": [
    "### Convert into single file"
   ]
  },
  {
   "cell_type": "code",
   "execution_count": 143,
   "id": "6fa05d3a",
   "metadata": {},
   "outputs": [],
   "source": [
    "import openpyxl\n",
    "import calendar\n",
    "from tqdm import tqdm\n",
    "from time import perf_counter"
   ]
  },
  {
   "cell_type": "code",
   "execution_count": 144,
   "id": "fb7b2957",
   "metadata": {},
   "outputs": [],
   "source": [
    "base_path = 'E:/Vehicleengineering/Ramnath/IMD CSV TO XLS/xlsx_files/'\n",
    "xlsx_folder_list = glob.glob(os.path.join(base_path,'*.xlsx'))\n",
    "save_path = 'E:/Vehicleengineering/Ramnath/IMD CSV TO XLS/x_y_files/'"
   ]
  },
  {
   "cell_type": "code",
   "execution_count": 145,
   "id": "123e82e2",
   "metadata": {},
   "outputs": [],
   "source": [
    "def get_date(year_num):\n",
    "    date_list = []\n",
    "    for m in range(1,13):\n",
    "        c = calendar.Calendar().monthdatescalendar(year_num,m)\n",
    "        for i in range(0,len(c)):\n",
    "            for j in c[i]:\n",
    "                if (j.year) == year_num and j.month == m:\n",
    "                    date_list.append(j)\n",
    "    return date_list"
   ]
  },
  {
   "cell_type": "code",
   "execution_count": 148,
   "id": "34c4f1d2",
   "metadata": {},
   "outputs": [
    {
     "name": "stderr",
     "output_type": "stream",
     "text": [
      "  0%|                                                                                         | 0/4964 [00:00<?, ?it/s]\n",
      "  0%|                                                                                            | 0/2 [00:00<?, ?it/s]\u001b[A\n",
      "\n",
      "366it [00:00, 52696.96it/s]\n",
      "\n",
      " 50%|██████████████████████████████████████████                                          | 1/2 [00:23<00:23, 23.59s/it]\u001b[A\n",
      "\n",
      "366it [00:00, 73387.29it/s]\n",
      "\n",
      "100%|████████████████████████████████████████████████████████████████████████████████████| 2/2 [00:47<00:00, 23.95s/it]\u001b[A\n",
      "  0%|                                                                              | 1/4964 [00:47<66:05:39, 47.94s/it]\n",
      "  0%|                                                                                            | 0/2 [00:00<?, ?it/s]\u001b[A"
     ]
    },
    {
     "name": "stdout",
     "output_type": "stream",
     "text": [
      "Completed row number 2 in 47.94473610000023 sec\n"
     ]
    },
    {
     "name": "stderr",
     "output_type": "stream",
     "text": [
      "\n",
      "\n",
      "366it [00:00, 61611.63it/s]\n",
      "\n",
      " 50%|██████████████████████████████████████████                                          | 1/2 [00:26<00:26, 26.87s/it]\u001b[A\n",
      "\n",
      "366it [00:00, 45717.89it/s]\n",
      "\n",
      "100%|████████████████████████████████████████████████████████████████████████████████████| 2/2 [00:51<00:00, 25.90s/it]\u001b[A\n",
      "  0%|                                                                              | 2/4964 [01:39<67:41:58, 49.12s/it]\n",
      "  0%|                                                                                            | 0/2 [00:00<?, ?it/s]\u001b[A"
     ]
    },
    {
     "name": "stdout",
     "output_type": "stream",
     "text": [
      "Completed row number 3 in 99.80195559999993 sec\n"
     ]
    },
    {
     "name": "stderr",
     "output_type": "stream",
     "text": [
      "  0%|                                                                                            | 0/2 [00:14<?, ?it/s]\n",
      "  0%|                                                                              | 2/4964 [01:54<79:07:06, 57.40s/it]\n"
     ]
    },
    {
     "ename": "KeyboardInterrupt",
     "evalue": "",
     "output_type": "error",
     "traceback": [
      "\u001b[1;31m---------------------------------------------------------------------------\u001b[0m",
      "\u001b[1;31mKeyboardInterrupt\u001b[0m                         Traceback (most recent call last)",
      "Input \u001b[1;32mIn [148]\u001b[0m, in \u001b[0;36m<cell line: 2>\u001b[1;34m()\u001b[0m\n\u001b[0;32m      6\u001b[0m range_cell \u001b[38;5;241m=\u001b[39m \u001b[38;5;124m'\u001b[39m\u001b[38;5;124mC\u001b[39m\u001b[38;5;124m'\u001b[39m\u001b[38;5;241m+\u001b[39m\u001b[38;5;28mstr\u001b[39m(row)\u001b[38;5;241m+\u001b[39m\u001b[38;5;124m'\u001b[39m\u001b[38;5;124m:\u001b[39m\u001b[38;5;124m'\u001b[39m\u001b[38;5;241m+\u001b[39m\u001b[38;5;124m'\u001b[39m\u001b[38;5;124mND\u001b[39m\u001b[38;5;124m'\u001b[39m\u001b[38;5;241m+\u001b[39m\u001b[38;5;28mstr\u001b[39m(row)\n\u001b[0;32m      7\u001b[0m \u001b[38;5;28;01mfor\u001b[39;00m path \u001b[38;5;129;01min\u001b[39;00m tqdm(xlsx_folder_list):\n\u001b[1;32m----> 8\u001b[0m     wb1 \u001b[38;5;241m=\u001b[39m \u001b[43mopenpyxl\u001b[49m\u001b[38;5;241;43m.\u001b[39;49m\u001b[43mload_workbook\u001b[49m\u001b[43m(\u001b[49m\u001b[43mpath\u001b[49m\u001b[43m,\u001b[49m\u001b[43m \u001b[49m\u001b[43mdata_only\u001b[49m\u001b[38;5;241;43m=\u001b[39;49m\u001b[38;5;28;43;01mTrue\u001b[39;49;00m\u001b[43m)\u001b[49m\n\u001b[0;32m      9\u001b[0m     sheet1 \u001b[38;5;241m=\u001b[39m wb1[\u001b[38;5;124m\"\u001b[39m\u001b[38;5;124mSheet1\u001b[39m\u001b[38;5;124m\"\u001b[39m]\n\u001b[0;32m     10\u001b[0m     c1 \u001b[38;5;241m=\u001b[39m sheet\u001b[38;5;241m.\u001b[39mcell(row\u001b[38;5;241m=\u001b[39m\u001b[38;5;241m1\u001b[39m,column\u001b[38;5;241m=\u001b[39m\u001b[38;5;241m1\u001b[39m)\n",
      "File \u001b[1;32m~\\Anaconda3\\envs\\mythronics\\lib\\site-packages\\openpyxl\\reader\\excel.py:317\u001b[0m, in \u001b[0;36mload_workbook\u001b[1;34m(filename, read_only, keep_vba, data_only, keep_links)\u001b[0m\n\u001b[0;32m    290\u001b[0m \u001b[38;5;124;03m\"\"\"Open the given filename and return the workbook\u001b[39;00m\n\u001b[0;32m    291\u001b[0m \n\u001b[0;32m    292\u001b[0m \u001b[38;5;124;03m:param filename: the path to open or a file-like object\u001b[39;00m\n\u001b[1;32m   (...)\u001b[0m\n\u001b[0;32m    313\u001b[0m \n\u001b[0;32m    314\u001b[0m \u001b[38;5;124;03m\"\"\"\u001b[39;00m\n\u001b[0;32m    315\u001b[0m reader \u001b[38;5;241m=\u001b[39m ExcelReader(filename, read_only, keep_vba,\n\u001b[0;32m    316\u001b[0m                     data_only, keep_links)\n\u001b[1;32m--> 317\u001b[0m \u001b[43mreader\u001b[49m\u001b[38;5;241;43m.\u001b[39;49m\u001b[43mread\u001b[49m\u001b[43m(\u001b[49m\u001b[43m)\u001b[49m\n\u001b[0;32m    318\u001b[0m \u001b[38;5;28;01mreturn\u001b[39;00m reader\u001b[38;5;241m.\u001b[39mwb\n",
      "File \u001b[1;32m~\\Anaconda3\\envs\\mythronics\\lib\\site-packages\\openpyxl\\reader\\excel.py:282\u001b[0m, in \u001b[0;36mExcelReader.read\u001b[1;34m(self)\u001b[0m\n\u001b[0;32m    280\u001b[0m \u001b[38;5;28mself\u001b[39m\u001b[38;5;241m.\u001b[39mread_theme()\n\u001b[0;32m    281\u001b[0m apply_stylesheet(\u001b[38;5;28mself\u001b[39m\u001b[38;5;241m.\u001b[39marchive, \u001b[38;5;28mself\u001b[39m\u001b[38;5;241m.\u001b[39mwb)\n\u001b[1;32m--> 282\u001b[0m \u001b[38;5;28;43mself\u001b[39;49m\u001b[38;5;241;43m.\u001b[39;49m\u001b[43mread_worksheets\u001b[49m\u001b[43m(\u001b[49m\u001b[43m)\u001b[49m\n\u001b[0;32m    283\u001b[0m \u001b[38;5;28mself\u001b[39m\u001b[38;5;241m.\u001b[39mparser\u001b[38;5;241m.\u001b[39massign_names()\n\u001b[0;32m    284\u001b[0m \u001b[38;5;28;01mif\u001b[39;00m \u001b[38;5;129;01mnot\u001b[39;00m \u001b[38;5;28mself\u001b[39m\u001b[38;5;241m.\u001b[39mread_only:\n",
      "File \u001b[1;32m~\\Anaconda3\\envs\\mythronics\\lib\\site-packages\\openpyxl\\reader\\excel.py:228\u001b[0m, in \u001b[0;36mExcelReader.read_worksheets\u001b[1;34m(self)\u001b[0m\n\u001b[0;32m    226\u001b[0m     ws\u001b[38;5;241m.\u001b[39m_rels \u001b[38;5;241m=\u001b[39m rels\n\u001b[0;32m    227\u001b[0m     ws_parser \u001b[38;5;241m=\u001b[39m WorksheetReader(ws, fh, \u001b[38;5;28mself\u001b[39m\u001b[38;5;241m.\u001b[39mshared_strings, \u001b[38;5;28mself\u001b[39m\u001b[38;5;241m.\u001b[39mdata_only)\n\u001b[1;32m--> 228\u001b[0m     \u001b[43mws_parser\u001b[49m\u001b[38;5;241;43m.\u001b[39;49m\u001b[43mbind_all\u001b[49m\u001b[43m(\u001b[49m\u001b[43m)\u001b[49m\n\u001b[0;32m    230\u001b[0m \u001b[38;5;66;03m# assign any comments to cells\u001b[39;00m\n\u001b[0;32m    231\u001b[0m \u001b[38;5;28;01mfor\u001b[39;00m r \u001b[38;5;129;01min\u001b[39;00m rels\u001b[38;5;241m.\u001b[39mfind(COMMENTS_NS):\n",
      "File \u001b[1;32m~\\Anaconda3\\envs\\mythronics\\lib\\site-packages\\openpyxl\\worksheet\\_reader.py:448\u001b[0m, in \u001b[0;36mWorksheetReader.bind_all\u001b[1;34m(self)\u001b[0m\n\u001b[0;32m    447\u001b[0m \u001b[38;5;28;01mdef\u001b[39;00m \u001b[38;5;21mbind_all\u001b[39m(\u001b[38;5;28mself\u001b[39m):\n\u001b[1;32m--> 448\u001b[0m     \u001b[38;5;28;43mself\u001b[39;49m\u001b[38;5;241;43m.\u001b[39;49m\u001b[43mbind_cells\u001b[49m\u001b[43m(\u001b[49m\u001b[43m)\u001b[49m\n\u001b[0;32m    449\u001b[0m     \u001b[38;5;28mself\u001b[39m\u001b[38;5;241m.\u001b[39mbind_merged_cells()\n\u001b[0;32m    450\u001b[0m     \u001b[38;5;28mself\u001b[39m\u001b[38;5;241m.\u001b[39mbind_hyperlinks()\n",
      "File \u001b[1;32m~\\Anaconda3\\envs\\mythronics\\lib\\site-packages\\openpyxl\\worksheet\\_reader.py:351\u001b[0m, in \u001b[0;36mWorksheetReader.bind_cells\u001b[1;34m(self)\u001b[0m\n\u001b[0;32m    350\u001b[0m \u001b[38;5;28;01mdef\u001b[39;00m \u001b[38;5;21mbind_cells\u001b[39m(\u001b[38;5;28mself\u001b[39m):\n\u001b[1;32m--> 351\u001b[0m     \u001b[38;5;28;01mfor\u001b[39;00m idx, row \u001b[38;5;129;01min\u001b[39;00m \u001b[38;5;28mself\u001b[39m\u001b[38;5;241m.\u001b[39mparser\u001b[38;5;241m.\u001b[39mparse():\n\u001b[0;32m    352\u001b[0m         \u001b[38;5;28;01mfor\u001b[39;00m cell \u001b[38;5;129;01min\u001b[39;00m row:\n\u001b[0;32m    353\u001b[0m             style \u001b[38;5;241m=\u001b[39m \u001b[38;5;28mself\u001b[39m\u001b[38;5;241m.\u001b[39mws\u001b[38;5;241m.\u001b[39mparent\u001b[38;5;241m.\u001b[39m_cell_styles[cell[\u001b[38;5;124m'\u001b[39m\u001b[38;5;124mstyle_id\u001b[39m\u001b[38;5;124m'\u001b[39m]]\n",
      "File \u001b[1;32m~\\Anaconda3\\envs\\mythronics\\lib\\site-packages\\openpyxl\\worksheet\\_reader.py:144\u001b[0m, in \u001b[0;36mWorkSheetParser.parse\u001b[1;34m(self)\u001b[0m\n\u001b[0;32m    125\u001b[0m properties \u001b[38;5;241m=\u001b[39m {\n\u001b[0;32m    126\u001b[0m     PRINT_TAG: (\u001b[38;5;124m'\u001b[39m\u001b[38;5;124mprint_options\u001b[39m\u001b[38;5;124m'\u001b[39m, PrintOptions),\n\u001b[0;32m    127\u001b[0m     MARGINS_TAG: (\u001b[38;5;124m'\u001b[39m\u001b[38;5;124mpage_margins\u001b[39m\u001b[38;5;124m'\u001b[39m, PageMargins),\n\u001b[1;32m   (...)\u001b[0m\n\u001b[0;32m    139\u001b[0m \n\u001b[0;32m    140\u001b[0m }\n\u001b[0;32m    142\u001b[0m it \u001b[38;5;241m=\u001b[39m iterparse(\u001b[38;5;28mself\u001b[39m\u001b[38;5;241m.\u001b[39msource) \u001b[38;5;66;03m# add a finaliser to close the source when this becomes possible\u001b[39;00m\n\u001b[1;32m--> 144\u001b[0m \u001b[38;5;28;01mfor\u001b[39;00m _, element \u001b[38;5;129;01min\u001b[39;00m it:\n\u001b[0;32m    145\u001b[0m     tag_name \u001b[38;5;241m=\u001b[39m element\u001b[38;5;241m.\u001b[39mtag\n\u001b[0;32m    146\u001b[0m     \u001b[38;5;28;01mif\u001b[39;00m tag_name \u001b[38;5;129;01min\u001b[39;00m dispatcher:\n",
      "File \u001b[1;32m~\\Anaconda3\\envs\\mythronics\\lib\\xml\\etree\\ElementTree.py:1229\u001b[0m, in \u001b[0;36miterparse.<locals>.iterator\u001b[1;34m()\u001b[0m\n\u001b[0;32m   1227\u001b[0m \u001b[38;5;28;01myield from\u001b[39;00m pullparser\u001b[38;5;241m.\u001b[39mread_events()\n\u001b[0;32m   1228\u001b[0m \u001b[38;5;66;03m# load event buffer\u001b[39;00m\n\u001b[1;32m-> 1229\u001b[0m data \u001b[38;5;241m=\u001b[39m \u001b[43msource\u001b[49m\u001b[38;5;241;43m.\u001b[39;49m\u001b[43mread\u001b[49m\u001b[43m(\u001b[49m\u001b[38;5;241;43m16\u001b[39;49m\u001b[43m \u001b[49m\u001b[38;5;241;43m*\u001b[39;49m\u001b[43m \u001b[49m\u001b[38;5;241;43m1024\u001b[39;49m\u001b[43m)\u001b[49m\n\u001b[0;32m   1230\u001b[0m \u001b[38;5;28;01mif\u001b[39;00m \u001b[38;5;129;01mnot\u001b[39;00m data:\n\u001b[0;32m   1231\u001b[0m     \u001b[38;5;28;01mbreak\u001b[39;00m\n",
      "File \u001b[1;32m~\\Anaconda3\\envs\\mythronics\\lib\\zipfile.py:940\u001b[0m, in \u001b[0;36mZipExtFile.read\u001b[1;34m(self, n)\u001b[0m\n\u001b[0;32m    938\u001b[0m \u001b[38;5;28mself\u001b[39m\u001b[38;5;241m.\u001b[39m_offset \u001b[38;5;241m=\u001b[39m \u001b[38;5;241m0\u001b[39m\n\u001b[0;32m    939\u001b[0m \u001b[38;5;28;01mwhile\u001b[39;00m n \u001b[38;5;241m>\u001b[39m \u001b[38;5;241m0\u001b[39m \u001b[38;5;129;01mand\u001b[39;00m \u001b[38;5;129;01mnot\u001b[39;00m \u001b[38;5;28mself\u001b[39m\u001b[38;5;241m.\u001b[39m_eof:\n\u001b[1;32m--> 940\u001b[0m     data \u001b[38;5;241m=\u001b[39m \u001b[38;5;28;43mself\u001b[39;49m\u001b[38;5;241;43m.\u001b[39;49m\u001b[43m_read1\u001b[49m\u001b[43m(\u001b[49m\u001b[43mn\u001b[49m\u001b[43m)\u001b[49m\n\u001b[0;32m    941\u001b[0m     \u001b[38;5;28;01mif\u001b[39;00m n \u001b[38;5;241m<\u001b[39m \u001b[38;5;28mlen\u001b[39m(data):\n\u001b[0;32m    942\u001b[0m         \u001b[38;5;28mself\u001b[39m\u001b[38;5;241m.\u001b[39m_readbuffer \u001b[38;5;241m=\u001b[39m data\n",
      "File \u001b[1;32m~\\Anaconda3\\envs\\mythronics\\lib\\zipfile.py:1030\u001b[0m, in \u001b[0;36mZipExtFile._read1\u001b[1;34m(self, n)\u001b[0m\n\u001b[0;32m   1028\u001b[0m \u001b[38;5;28;01mif\u001b[39;00m \u001b[38;5;28mself\u001b[39m\u001b[38;5;241m.\u001b[39m_left \u001b[38;5;241m<\u001b[39m\u001b[38;5;241m=\u001b[39m \u001b[38;5;241m0\u001b[39m:\n\u001b[0;32m   1029\u001b[0m     \u001b[38;5;28mself\u001b[39m\u001b[38;5;241m.\u001b[39m_eof \u001b[38;5;241m=\u001b[39m \u001b[38;5;28;01mTrue\u001b[39;00m\n\u001b[1;32m-> 1030\u001b[0m \u001b[38;5;28;43mself\u001b[39;49m\u001b[38;5;241;43m.\u001b[39;49m\u001b[43m_update_crc\u001b[49m\u001b[43m(\u001b[49m\u001b[43mdata\u001b[49m\u001b[43m)\u001b[49m\n\u001b[0;32m   1031\u001b[0m \u001b[38;5;28;01mreturn\u001b[39;00m data\n",
      "File \u001b[1;32m~\\Anaconda3\\envs\\mythronics\\lib\\zipfile.py:955\u001b[0m, in \u001b[0;36mZipExtFile._update_crc\u001b[1;34m(self, newdata)\u001b[0m\n\u001b[0;32m    952\u001b[0m \u001b[38;5;28;01mif\u001b[39;00m \u001b[38;5;28mself\u001b[39m\u001b[38;5;241m.\u001b[39m_expected_crc \u001b[38;5;129;01mis\u001b[39;00m \u001b[38;5;28;01mNone\u001b[39;00m:\n\u001b[0;32m    953\u001b[0m     \u001b[38;5;66;03m# No need to compute the CRC if we don't have a reference value\u001b[39;00m\n\u001b[0;32m    954\u001b[0m     \u001b[38;5;28;01mreturn\u001b[39;00m\n\u001b[1;32m--> 955\u001b[0m \u001b[38;5;28mself\u001b[39m\u001b[38;5;241m.\u001b[39m_running_crc \u001b[38;5;241m=\u001b[39m \u001b[43mcrc32\u001b[49m\u001b[43m(\u001b[49m\u001b[43mnewdata\u001b[49m\u001b[43m,\u001b[49m\u001b[43m \u001b[49m\u001b[38;5;28;43mself\u001b[39;49m\u001b[38;5;241;43m.\u001b[39;49m\u001b[43m_running_crc\u001b[49m\u001b[43m)\u001b[49m\n\u001b[0;32m    956\u001b[0m \u001b[38;5;66;03m# Check the CRC if we're at the end of the file\u001b[39;00m\n\u001b[0;32m    957\u001b[0m \u001b[38;5;28;01mif\u001b[39;00m \u001b[38;5;28mself\u001b[39m\u001b[38;5;241m.\u001b[39m_eof \u001b[38;5;129;01mand\u001b[39;00m \u001b[38;5;28mself\u001b[39m\u001b[38;5;241m.\u001b[39m_running_crc \u001b[38;5;241m!=\u001b[39m \u001b[38;5;28mself\u001b[39m\u001b[38;5;241m.\u001b[39m_expected_crc:\n",
      "\u001b[1;31mKeyboardInterrupt\u001b[0m: "
     ]
    }
   ],
   "source": [
    "t1_start = perf_counter()\n",
    "for row in tqdm(range(2,4966)):\n",
    "    prev_row = 2\n",
    "    wb = openpyxl.Workbook()\n",
    "    sheet = wb.active\n",
    "    range_cell = 'C'+str(row)+':'+'ND'+str(row)\n",
    "    for path in tqdm(xlsx_folder_list):\n",
    "        wb1 = openpyxl.load_workbook(path, data_only=True)\n",
    "        sheet1 = wb1[\"Sheet1\"]\n",
    "        c1 = sheet.cell(row=1,column=1)\n",
    "        c1.value = 'Year'\n",
    "        c2 = sheet.cell(row=1,column=2)\n",
    "        c2.value = 'Month'\n",
    "        c3 = sheet.cell(row=1,column=3)\n",
    "        c3.value = 'Day'\n",
    "        c4 = sheet.cell(row=1,column=4)\n",
    "        c4.value = 'Rainfall'\n",
    "        year_num = int(((os.path.basename(path)).split('_rain.xlsx')[0]).split('29.11.2022')[1])\n",
    "        datelist = get_date(year_num)\n",
    "        final_name = str(sheet1['A'+str(row)].value) +'_'+ str(sheet1['B'+str(row)].value)\n",
    "        for cell_col in sheet1[range_cell]:\n",
    "            for i,dat in tqdm(enumerate(cell_col)):\n",
    "                if dat.value is not None:\n",
    "                    c1 = sheet.cell(row=prev_row,column=1)\n",
    "                    c1.value = datelist[i].year\n",
    "                    c2 = sheet.cell(row=prev_row,column=2)\n",
    "                    c2.value = datelist[i].month\n",
    "                    c3 = sheet.cell(row=prev_row,column=3)\n",
    "                    c3.value = datelist[i].day\n",
    "                    c4 = sheet.cell(row=prev_row,column=4)\n",
    "                    c4.value = dat.value\n",
    "                    prev_row+=1\n",
    "    \n",
    "    wb.save(os.path.join(save_path,str(final_name)+'.xlsx'))\n",
    "    t1_stop = perf_counter() \n",
    "    print(f'Completed row number {row} in {t1_stop-t1_start} sec')\n",
    "    "
   ]
  }
 ],
 "metadata": {
  "kernelspec": {
   "display_name": "Python 3",
   "language": "python",
   "name": "python3"
  },
  "language_info": {
   "codemirror_mode": {
    "name": "ipython",
    "version": 3
   },
   "file_extension": ".py",
   "mimetype": "text/x-python",
   "name": "python",
   "nbconvert_exporter": "python",
   "pygments_lexer": "ipython3",
   "version": "3.8.5"
  }
 },
 "nbformat": 4,
 "nbformat_minor": 5
}
